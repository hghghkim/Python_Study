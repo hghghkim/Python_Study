{
 "cells": [
  {
   "cell_type": "code",
   "execution_count": 1,
   "metadata": {},
   "outputs": [
    {
     "name": "stdout",
     "output_type": "stream",
     "text": [
      "Example:\n",
      "6\n",
      "Coding complete? Click 'Check' to earn cool rewards!\n"
     ]
    }
   ],
   "source": [
    "def mult_two(a, b):\n",
    "    return a*b\n",
    "\n",
    "\n",
    "if __name__ == '__main__':\n",
    "    print(\"Example:\")\n",
    "    print(mult_two(3, 2))\n",
    "    \n",
    "    # These \"asserts\" are used for self-checking and not for an auto-testing\n",
    "    assert mult_two(3, 2) == 6\n",
    "    assert mult_two(1, 0) == 0\n",
    "    print(\"Coding complete? Click 'Check' to earn cool rewards!\")"
   ]
  },
  {
   "cell_type": "code",
   "execution_count": 2,
   "metadata": {},
   "outputs": [
    {
     "name": "stdout",
     "output_type": "stream",
     "text": [
      "Done. Time to Check.\n"
     ]
    }
   ],
   "source": [
    "def say_hi(name: str, age: int) -> str:\n",
    "    \"\"\"\n",
    "        Hi!\n",
    "    \"\"\"\n",
    "    return \"Hi. My name is %s and I'm %d years old\" %(name,age)\n",
    "    #return \"Hi. My name is {0} and I'm {1} years old\".format(name,age)\n",
    "\n",
    "if __name__ == '__main__':\n",
    "    #These \"asserts\" using only for self-checking and not necessary for auto-testing\n",
    "    assert say_hi(\"Alex\", 32) == \"Hi. My name is Alex and I'm 32 years old\", \"First\"\n",
    "    assert say_hi(\"Frank\", 68) == \"Hi. My name is Frank and I'm 68 years old\", \"Second\"\n",
    "    print('Done. Time to Check.')\n",
    "\n"
   ]
  },
  {
   "cell_type": "code",
   "execution_count": 7,
   "metadata": {},
   "outputs": [
    {
     "name": "stdout",
     "output_type": "stream",
     "text": [
      "Examples:\n",
      "(1, 3, 7)\n",
      "Done! Go Check!\n"
     ]
    }
   ],
   "source": [
    "def easy_unpack(elements: tuple) -> tuple:\n",
    "    \"\"\"\n",
    "        returns a tuple with 3 elements - first, third and second to the last\n",
    "    \"\"\"\n",
    "   \n",
    "    return  tuple([elements[0],elements[2],elements[-2]])\n",
    "\n",
    "\n",
    "#from operator import itemgetter\n",
    "#easy_unpack = itemgetter(0, 2, ~1)\n",
    "\n",
    "if __name__ == '__main__':\n",
    "    print('Examples:')\n",
    "    print(easy_unpack((1, 2, 3, 4, 5, 6, 7, 9)))\n",
    "    \n",
    "    #These \"asserts\" using only for self-checking and not necessary for auto-testing\n",
    "    assert easy_unpack((1, 2, 3, 4, 5, 6, 7, 9)) == (1, 3, 7)\n",
    "    assert easy_unpack((1, 1, 1, 1)) == (1, 1, 1)\n",
    "    assert easy_unpack((6, 3, 7)) == (6, 7, 3)\n",
    "    print('Done! Go Check!')"
   ]
  },
  {
   "cell_type": "code",
   "execution_count": 11,
   "metadata": {},
   "outputs": [
    {
     "name": "stdout",
     "output_type": "stream",
     "text": [
      "Example:\n",
      "9\n",
      "Coding complete? Click 'Check' to review your tests and earn cool rewards!\n"
     ]
    }
   ],
   "source": [
    "def index_power(array: list, n: int) -> int:\n",
    "    \"\"\"\n",
    "        Find Nth power of the element with index N.\n",
    "    \"\"\"\n",
    "    if len(array) <= n:\n",
    "        return -1\n",
    "    else:\n",
    "        return array[n]**n\n",
    "\n",
    "#try: return array[n] ** n\n",
    "#except IndexError: return -1\n",
    "\n",
    "if __name__ == '__main__':\n",
    "    print('Example:')\n",
    "    print(index_power([1, 2, 3, 4], 2))\n",
    "    \n",
    "    #These \"asserts\" using only for self-checking and not necessary for auto-testing\n",
    "    assert index_power([1, 2, 3, 4], 2) == 9, \"Square\"\n",
    "    assert index_power([1, 3, 10, 100], 3) == 1000000, \"Cube\"\n",
    "    assert index_power([0, 1], 0) == 1, \"Zero power\"\n",
    "    assert index_power([1, 2], 3) == -1, \"IndexError\"\n",
    "    print(\"Coding complete? Click 'Check' to review your tests and earn cool rewards!\")\n"
   ]
  },
  {
   "cell_type": "code",
   "execution_count": 18,
   "metadata": {},
   "outputs": [
    {
     "name": "stdout",
     "output_type": "stream",
     "text": [
      "Example:\n",
      "120\n",
      "Coding complete? Click 'Check' to review your tests and earn cool rewards!\n"
     ]
    }
   ],
   "source": [
    "def checkio(number: int) -> int:\n",
    "    a=1\n",
    "    number = str(number)\n",
    "    for i in range(len(number)):\n",
    "        if number[i] != '0':\n",
    "            a *= int(number[i])\n",
    "    \n",
    "    return a\n",
    "\n",
    "\n",
    "if __name__ == '__main__':\n",
    "    print('Example:')\n",
    "    print(checkio(123405))\n",
    "    \n",
    "    # These \"asserts\" using only for self-checking and not necessary for auto-testing\n",
    "    assert checkio(123405) == 120\n",
    "    assert checkio(999) == 729\n",
    "    assert checkio(1000) == 1\n",
    "    assert checkio(1111) == 1\n",
    "    print(\"Coding complete? Click 'Check' to review your tests and earn cool rewards!\")\n"
   ]
  },
  {
   "cell_type": "code",
   "execution_count": null,
   "metadata": {},
   "outputs": [],
   "source": []
  }
 ],
 "metadata": {
  "kernelspec": {
   "display_name": "Python 3",
   "language": "python",
   "name": "python3"
  },
  "language_info": {
   "codemirror_mode": {
    "name": "ipython",
    "version": 3
   },
   "file_extension": ".py",
   "mimetype": "text/x-python",
   "name": "python",
   "nbconvert_exporter": "python",
   "pygments_lexer": "ipython3",
   "version": "3.7.6"
  }
 },
 "nbformat": 4,
 "nbformat_minor": 4
}
