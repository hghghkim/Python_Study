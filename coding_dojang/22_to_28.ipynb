{
 "cells": [
  {
   "cell_type": "markdown",
   "metadata": {},
   "source": [
    "## 리스트와 튜플 응용하기\n",
    "### 2의 거듭제곱 리스트 생성하기\n",
    "\n",
    "표준 입력으로 정수 두 개가 입력됩니다(첫 번째 입력 값의 범위는 1\\~20, 두 번째 입력 값의 범위는 10\\~30이며 첫 번째 입력 값은 두 번째 입력 값보다 항상 작습니다). 첫 번째 정수부터 두 번째 정수까지를 지수로 하는 2의 거듭제곱 리스트를 출력하는 프로그램을 만드세요(input에서 안내 문자열은 출력하지 않아야 합니다). 단, 리스트의 두 번째 요소와 뒤에서 두 번째 요소는 삭제한 뒤 출력하세요. 출력 결과는 리스트 형태라야 합니다.\n",
    "\n",
    "judge_list_comprehension.py\n",
    "\n",
    "________________\n",
    "________________\n",
    "________________\n",
    "________________\n",
    "________________\n",
    "\n",
    "예\n",
    "\n",
    "입력\n",
    "1 10\n",
    "\n",
    "결과\n",
    "[2, 8, 16, 32, 64, 128, 256, 1024]\n",
    "\n",
    "입력\n",
    "10 20\n",
    "\n",
    "결과\n",
    "[1024, 4096, 8192, 16384, 32768, 65536, 131072, 262144, 1048576]"
   ]
  },
  {
   "cell_type": "code",
   "execution_count": 26,
   "metadata": {},
   "outputs": [
    {
     "name": "stdin",
     "output_type": "stream",
     "text": [
      " 1 10\n"
     ]
    },
    {
     "name": "stdout",
     "output_type": "stream",
     "text": [
      "[2, 8, 16, 32, 64, 128, 256, 1024]\n"
     ]
    }
   ],
   "source": [
    "x, y = map(int,input().split())\n",
    "\n",
    "z = [2**i for i in range(x,y+1) if i != x+1  if i != y-1]\n",
    "print(z)\n",
    "\n",
    "## pop, del "
   ]
  },
  {
   "cell_type": "code",
   "execution_count": 28,
   "metadata": {},
   "outputs": [
    {
     "name": "stdin",
     "output_type": "stream",
     "text": [
      " 1 10\n"
     ]
    },
    {
     "name": "stdout",
     "output_type": "stream",
     "text": [
      "[2, 8, 16, 32, 64, 128, 256, 1024]\n"
     ]
    }
   ],
   "source": [
    "x, y = map(int,input().split())\n",
    "\n",
    "z = [2**i for i in range(x,y+1)]\n",
    "z.pop(1)\n",
    "z.pop(-2)\n",
    "print(z)"
   ]
  },
  {
   "cell_type": "markdown",
   "metadata": {},
   "source": [
    "## 2차원 리스트\n",
    "### 지뢰찾기\n",
    "표준 입력으로 2차원 리스트의 가로(col)와 세로(row)가 입력되고 그 다음 줄부터 리스트의 요소로 들어갈 문자가 입력됩니다. 이때 2차원 리스트 안에서 *는 지뢰이고 .은 지뢰가 아닙니다. 지뢰가 아닌 요소에는 인접한 지뢰의 개수를 출력하는 프로그램을 만드세요(input에서 안내 문자열은 출력하지 않아야 합니다).\n",
    "\n",
    "여러 줄을 입력 받으려면 다음과 같이 for 반복문에서 input을 호출한 뒤 append로 각 줄을 추가하면 됩니다(list 안에 문자열을 넣으면 문자열이 문자 리스트로 변환됩니다).\n",
    "\n",
    "matrix = []  \n",
    "for i in range(row):  \n",
    "    matrix.append(list(input()))  \n",
    "이 문제는 지금까지 심사문제 중에서 가장 어렵습니다. 처음 풀어보는 경우 대략 두 시간은 걸립니다. 시간을 두고 천천히 고민해서 풀어보세요. 지금까지 학습한 내용을 모두 동원해야 풀 수 있으며 막힐 때는 지금까지 학습한 내용을 다시 복습하면서 힌트를 찾아보세요."
   ]
  },
  {
   "cell_type": "code",
   "execution_count": 24,
   "metadata": {},
   "outputs": [
    {
     "name": "stdin",
     "output_type": "stream",
     "text": [
      " 3 3\n",
      " .**\n",
      " *..\n",
      " ..*\n"
     ]
    },
    {
     "name": "stdout",
     "output_type": "stream",
     "text": [
      "2**\n",
      "*43\n",
      "12*\n"
     ]
    }
   ],
   "source": [
    "row, column= map(int,input().split())\n",
    "\n",
    "matrix = []\n",
    "for i in range(row):\n",
    "    matrix.append(list(input()))\n",
    "\n",
    "count = 0\n",
    "for i in range(row):\n",
    "    for j in range(column):\n",
    "        if matrix[i][j] =='.':\n",
    "            if i-1 >=0 :   \n",
    "                if matrix[i-1][j] == '*':\n",
    "                    count +=1\n",
    "            if j-1 >= 0 :       \n",
    "                if matrix[i][j-1] == '*':\n",
    "                    count +=1\n",
    "            if i-1 >= 0 and j-1>=0:\n",
    "                if matrix[i-1][j-1] == '*':\n",
    "                    count +=1\n",
    "            if i+1 <row:\n",
    "                if matrix[i+1][j] == '*':\n",
    "                    count +=1 \n",
    "            if j+1 <row:\n",
    "                if matrix[i][j+1] == '*':\n",
    "                    count +=1\n",
    "            if i+1 < row and j+1 < row:\n",
    "                if matrix[i+1][j+1] == '*':\n",
    "                    count +=1\n",
    "            if i-1>=0 and j+1 <row:\n",
    "                if matrix[i-1][j+1] == '*':\n",
    "                    count +=1\n",
    "            if i+1 <row and j-1 >= 0:\n",
    "                if matrix[i+1][j-1] == '*':\n",
    "                    count +=1\n",
    "                \n",
    "            matrix[i][j] = count\n",
    "            count = 0\n",
    "#for y in range(i - 1, i + 2):         # 한 칸 위부터 한 칸 아래까지 반복\n",
    "#for x in range(j - 1, j + 2):     # 한 칸 앞(왼쪽)부터 한 칸 뒤(오른쪽)까지 반복\n",
    "            \n",
    "for i in range(row):\n",
    "    for j in range(column):\n",
    "        print(matrix[i][j],end='')\n",
    "    print('')"
   ]
  },
  {
   "cell_type": "markdown",
   "metadata": {},
   "source": [
    "## 문자열 응용하기\n",
    "### 특정 단어 개수 세기\n",
    "표준 입력으로 문자열이 입력됩니다. 입력된 문자열에서 'the'의 개수를 출력하는 프로그램을 만드세요(input에서 안내 문자열은 출력하지 않아야 합니다). 단, 모든 문자가 소문자인 'the'만 찾으면 되며 'them', 'there', 'their' 등은 포함하지 않아야 합니다.\n",
    "\n",
    "judge_string_count.py\n",
    "________________\n",
    "________________\n",
    "________________\n",
    "________________\n",
    "________________\n",
    "________________\n",
    "________________\n",
    "\n",
    "\n",
    "예  \n",
    "입력  \n",
    "the grown-ups' response, this time, was to advise me to lay aside my drawings of boa constrictors, whether from the inside or the outside, and devote myself instead to geography, history, arithmetic, and grammar. That is why, at the, age of six, I gave up what might have been a magnificent career as a painter. I had been disheartened by the failure of my Drawing Number One and my Drawing Number Two. Grown-ups never understand anything by themselves, and it is tiresome for children to be always and forever explaining things to the.  \n",
    "결과  \n",
    "6"
   ]
  },
  {
   "cell_type": "code",
   "execution_count": 41,
   "metadata": {},
   "outputs": [
    {
     "name": "stdin",
     "output_type": "stream",
     "text": [
      " the grown-ups' response, this time, was to advise me to lay aside my drawings of boa constrictors, whether from the inside or the outside, and devote myself instead to geography, history, arithmetic, and grammar. That is why, at the, age of six, I gave up what might have been a magnificent career as a painter. I had been disheartened by the failure of my Drawing Number One and my Drawing Number Two. Grown-ups never understand anything by themselves, and it is tiresome for children to be always and forever explaining things to the.  \n"
     ]
    },
    {
     "name": "stdout",
     "output_type": "stream",
     "text": [
      "6\n"
     ]
    }
   ],
   "source": [
    "x=input()\n",
    "\n",
    "y = x.replace('.',' ').replace('-',' ').replace(',',' ').split()\n",
    "count=0\n",
    "for i in range(len(y)):\n",
    "    if y[i] == 'the':\n",
    "        count+=1;\n",
    "\n",
    "print(count)"
   ]
  },
  {
   "cell_type": "markdown",
   "metadata": {},
   "source": [
    "### 높은 가격순으로 출력하기\n",
    "표준 입력으로 물품 가격 여러 개가 문자열 한 줄로 입력되고, 각 가격은 ;(세미콜론)으로 구분되어 있습니다. 입력된 가격을 높은 가격순으로 출력하는 프로그램을 만드세요(input에서 안내 문자열은 출력하지 않아야 합니다). 이때 가격은 길이를 9로 만든 뒤 오른쪽으로 정렬하고 천단위로 ,(콤마)를 넣으세요.\n",
    "\n",
    "judge_string_alignment.py\n",
    "________________\n",
    "________________\n",
    "________________\n",
    "________________\n",
    "\n",
    "\n",
    "예  \n",
    "입력  \n",
    "51900;83000;158000;367500;250000;59200;128500;1304000  \n",
    "결과  \n",
    "1,304,000  \n",
    "  367,500  \n",
    "  250,000  \n",
    "  158,000  \n",
    "  128,500  \n",
    "   83,000  \n",
    "   59,200  \n",
    "   51,900  "
   ]
  },
  {
   "cell_type": "code",
   "execution_count": 67,
   "metadata": {},
   "outputs": [
    {
     "name": "stdin",
     "output_type": "stream",
     "text": [
      " 51900;83000;158000;367500;250000;59200;128500;1304000  \n"
     ]
    },
    {
     "name": "stdout",
     "output_type": "stream",
     "text": [
      "1,304,000\n",
      "  367,500\n",
      "  250,000\n",
      "  158,000\n",
      "  128,500\n",
      "   83,000\n",
      "   59,200\n",
      "   51,900\n"
     ]
    }
   ],
   "source": [
    "x = list(map(int,input().split(';')))\n",
    "x.sort(reverse=True)\n",
    "for i in range(len(x)):\n",
    "    print('{0:>9,}'.format(x[i], ',')) #'%9s' % format(price, ',')\n",
    "    "
   ]
  },
  {
   "cell_type": "markdown",
   "metadata": {},
   "source": [
    "## 딕셔너리 응용\n",
    "### 딕셔너리에서 특정 값 삭제\n",
    "표준 입력으로 문자열 여러 개와 숫자 여러 개가 두 줄로 입력되고, 첫 번째 줄은 키, 두 번째 줄은 값으로 하여 딕셔너리를 생성합니다. 다음 코드를 완성하여 딕셔너리에서 키가 'delta'인 키-값 쌍과 값이 30인 키-값 쌍을 삭제하도록 만드세요.  \n",
    "  \n",
    "judge_dict_del.py  \n",
    "keys = input().split()  \n",
    "values = map(int, input().split())  \n",
    " \n",
    "x = dict(zip(keys, values))  \n",
    "   \n",
    "________________\n",
    "________________\n",
    " \n",
    "print(x)  \n",
    "예  \n",
    "입력  \n",
    "alpha bravo charlie delta  \n",
    "10 20 30 40  \n",
    "결과  \n",
    "{'alpha': 10, 'bravo': 20}  \n",
    "입력  \n",
    "alpha bravo charlie delta echo foxtrot golf  \n",
    "30 40 50 60 70 80 90  \n",
    "결과  \n",
    "{'bravo': 40, 'charlie': 50, 'echo': 70, 'foxtrot': 80, 'golf': 90}  "
   ]
  },
  {
   "cell_type": "code",
   "execution_count": 79,
   "metadata": {},
   "outputs": [
    {
     "name": "stdin",
     "output_type": "stream",
     "text": [
      " alpha bravo charlie delta echo foxtrot golf\n",
      " 30 40 50 60 70 80 90\n"
     ]
    },
    {
     "name": "stdout",
     "output_type": "stream",
     "text": [
      "{'bravo': 40, 'charlie': 50, 'echo': 70, 'foxtrot': 80, 'golf': 90}\n"
     ]
    }
   ],
   "source": [
    "\n",
    "keys = input().split()\n",
    "values = map(int, input().split())\n",
    "\n",
    "x = dict(zip(keys, values))\n",
    "\n",
    "y= {key: value for key, value in x.items() if key != 'delta' if value != 30 }\n",
    "\n",
    "print(y)"
   ]
  },
  {
   "cell_type": "markdown",
   "metadata": {},
   "source": [
    "## 파일 사용하기\n",
    "### 특정 문자가 들어있는 단어 찾기\n",
    "문자열이 저장된 words.txt 파일이 주어집니다(문자열은 한 줄로 저장되어 있습니다). words.txt 파일에서 문자 c가 포함된 단어를 각 줄에 출력하는 프로그램을 만드세요. 단어를 출력할 때는 등장한 순서대로 출력해야 하며 ,(콤마)와 .(점)은 출력하지 않아야 합니다.\n",
    "\n",
    "judge_file.py\n",
    "________________\n",
    "________________\n",
    "________________\n",
    "________________\n",
    "________________\n",
    "\n",
    "\n",
    "words.txt\n",
    "Fortunately, however, for the reputation of Asteroid B-612, a Turkish dictator made a law that his subjects, under pain of death, should change to European costume. So in 1920 the astronomer gave his demonstration all over again, dressed with impressive style and elegance. And this time everybody accepted his report.\n",
    "  \n",
    "표준 출력  \n",
    "dictator  \n",
    "subjects  \n",
    "change  \n",
    "costume  \n",
    "elegance  \n",
    "accepted  \n"
   ]
  },
  {
   "cell_type": "code",
   "execution_count": 32,
   "metadata": {},
   "outputs": [
    {
     "name": "stdout",
     "output_type": "stream",
     "text": [
      "dictator\n",
      "subjects\n",
      "change\n",
      "costume\n",
      "elegance\n",
      "accepted\n"
     ]
    }
   ],
   "source": [
    "with open('words.txt','r') as file:\n",
    "    x = file.readline().replace('.',' ').replace(',',' ')\n",
    "    y = list(x.split(' '))\n",
    "    for i in range(len(y)):\n",
    "        if y[i].find('c') >=0:\n",
    "            print(y[i])\n",
    "\n",
    "    "
   ]
  },
  {
   "cell_type": "markdown",
   "metadata": {},
   "source": [
    "\n"
   ]
  }
 ],
 "metadata": {
  "kernelspec": {
   "display_name": "Python 3",
   "language": "python",
   "name": "python3"
  },
  "language_info": {
   "codemirror_mode": {
    "name": "ipython",
    "version": 3
   },
   "file_extension": ".py",
   "mimetype": "text/x-python",
   "name": "python",
   "nbconvert_exporter": "python",
   "pygments_lexer": "ipython3",
   "version": "3.7.6"
  }
 },
 "nbformat": 4,
 "nbformat_minor": 4
}
