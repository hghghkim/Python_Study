{
 "cells": [
  {
   "cell_type": "markdown",
   "metadata": {},
   "source": [
    "## 함수 사용\n",
    "### 사칙 연산 함수 만들기\n",
    "표준 입력으로 숫자 두 개가 입력됩니다. 다음 소스 코드를 완성하여 두 숫자의 덧셈, 뺄셈, 곱셈, 나눗셈의 결과가 출력되게 만드세요. 이때 나눗셈의 결과는 실수라야 합니다.\n",
    "\n",
    "judge_function.py\n",
    "x, y = map(int, input().split())\n",
    "\n",
    "________________\n",
    "________________\n",
    "\n",
    "a, s, m, d = calc(x, y)  \n",
    "print('덧셈: {0}, 뺄셈: {1}, 곱셈: {2}, 나눗셈: {3}'.format(a, s, m, d))  \n",
    "예  \n",
    "입력  \n",
    "10 20  \n",
    "결과  \n",
    "덧셈: 30,  뺄셈: -10, 곱셈: 200, 나눗셈: 0.5  \n",
    "입력  \n",
    "40 8  \n",
    "결과  \n",
    "덧셈: 48, 뺄셈: 32, 곱셈: 320, 나눗셈: 5.0  "
   ]
  },
  {
   "cell_type": "code",
   "execution_count": 10,
   "metadata": {},
   "outputs": [
    {
     "name": "stdin",
     "output_type": "stream",
     "text": [
      " 40 8\n"
     ]
    },
    {
     "name": "stdout",
     "output_type": "stream",
     "text": [
      "덧셈: 48, 뺄셈: 32, 곱셈: 320, 나눗셈: 5.0\n"
     ]
    }
   ],
   "source": [
    "x, y = map(int, input().split())\n",
    "\n",
    "def calc(a,b):\n",
    "    return a+b, a-b, a*b, float(a)/float(b)\n",
    "\n",
    "a, s, m, d = calc(x, y)\n",
    "print('덧셈: {0}, 뺄셈: {1}, 곱셈: {2}, 나눗셈: {3}'.format(a, s, m, d))"
   ]
  },
  {
   "cell_type": "markdown",
   "metadata": {},
   "source": [
    "## 함수에서 위치 인수와 키워드 인수 사용\n",
    "### 가장 낮은 점수, 높은 점수와 평균 점수를 구하는 함수\n",
    "표준 입력으로 국어, 영어, 수학, 과학 점수가 입력됩니다. 다음 소스 코드를 완성하여 가장 높은 점수, 가장 낮은 점수, 평균 점수가 출력되게 만드세요. 평균 점수는 실수로 출력되어야 합니다.\n",
    "\n",
    "judge_function_argument.py  \n",
    "korean, english, mathematics, science = map(int, input().split())  \n",
    "\n",
    "________________  \n",
    "________________  \n",
    "________________  \n",
    "________________  \n",
    "  \n",
    "min_score, max_score = get_min_max_score(korean, english, mathematics, science)  \n",
    "average_score = get_average(korean=korean, english=english,  \n",
    "                            mathematics=mathematics, science=science)  \n",
    "print('낮은 점수: {0:.2f}, 높은 점수: {1:.2f}, 평균 점수: {2:.2f}'  \n",
    "      .format(min_score, max_score, average_score))  \n",
    " \n",
    "min_score, max_score = get_min_max_score(english, science)  \n",
    "average_score = get_average(english=english, science=science)  \n",
    "print('낮은 점수: {0:.2f}, 높은 점수: {1:.2f}, 평균 점수: {2:.2f}'  \n",
    "      .format(min_score, max_score, average_score))  \n",
    "예  \n",
    "입력  \n",
    "76 82 89 84  \n",
    "결과  \n",
    "낮은 점수: 76.00, 높은 점수: 89.00, 평균 점수: 82.75  \n",
    "낮은 점수: 82.00, 높은 점수: 84.00, 평균 점수: 83.00  \n",
    "입력  \n",
    "89 92 73 83  \n",
    "결과  \n",
    "낮은 점수: 73.00, 높은 점수: 92.00, 평균 점수: 84.25  \n",
    "낮은 점수: 83.00, 높은 점수: 92.00, 평균 점수: 87.50  "
   ]
  },
  {
   "cell_type": "code",
   "execution_count": 42,
   "metadata": {},
   "outputs": [
    {
     "name": "stdin",
     "output_type": "stream",
     "text": [
      " 89 92 73 83\n"
     ]
    },
    {
     "name": "stdout",
     "output_type": "stream",
     "text": [
      "낮은 점수: 73.00, 높은 점수: 92.00, 평균 점수: 84.25\n",
      "낮은 점수: 83.00, 높은 점수: 92.00, 평균 점수: 87.50\n"
     ]
    }
   ],
   "source": [
    "korean, english, mathematics, science = map(int, input().split())\n",
    "\n",
    "def get_min_max_score(*args):\n",
    "    return min(args), max(args)\n",
    "\n",
    "def get_average(korean=-1, english=-1, mathematics=-1, science=-1):\n",
    "    list_s = list([korean,english, mathematics,science])\n",
    "    list_a=[]\n",
    "    for i in list_s:\n",
    "        if i !=-1:\n",
    "            list_a.append(i)\n",
    "    return sum(list_a)/len(list_a)\n",
    "\n",
    "min_score, max_score = get_min_max_score(korean, english, mathematics, science)\n",
    "average_score = get_average(korean=korean, english=english, mathematics=mathematics, science=science)\n",
    "print('낮은 점수: {0:.2f}, 높은 점수: {1:.2f}, 평균 점수: {2:.2f}'.format(min_score, max_score, average_score))\n",
    "\n",
    "min_score, max_score = get_min_max_score(english, science)\n",
    "average_score = get_average(english=english, science=science)\n",
    "print('낮은 점수: {0:.2f}, 높은 점수: {1:.2f}, 평균 점수: {2:.2f}'.format(min_score, max_score, average_score))"
   ]
  },
  {
   "cell_type": "code",
   "execution_count": 44,
   "metadata": {},
   "outputs": [
    {
     "name": "stdin",
     "output_type": "stream",
     "text": [
      " 89 92 73 83\n"
     ]
    },
    {
     "name": "stdout",
     "output_type": "stream",
     "text": [
      "낮은 점수: 73.00, 높은 점수: 92.00, 평균 점수: 84.25\n",
      "낮은 점수: 83.00, 높은 점수: 92.00, 평균 점수: 87.50\n"
     ]
    }
   ],
   "source": [
    "korean, english, mathematics, science = map(int, input().split())\n",
    "\n",
    "def get_min_max_score(*args):\n",
    "    return min(args), max(args)\n",
    "\n",
    "def get_average(**kwargs):\n",
    "    return sum(kwargs.values())/len(kwargs)\n",
    "\n",
    "min_score, max_score = get_min_max_score(korean, english, mathematics, science)\n",
    "average_score = get_average(korean=korean, english=english, mathematics=mathematics, science=science)\n",
    "print('낮은 점수: {0:.2f}, 높은 점수: {1:.2f}, 평균 점수: {2:.2f}'.format(min_score, max_score, average_score))\n",
    "\n",
    "min_score, max_score = get_min_max_score(english, science)\n",
    "average_score = get_average(english=english, science=science)\n",
    "print('낮은 점수: {0:.2f}, 높은 점수: {1:.2f}, 평균 점수: {2:.2f}'.format(min_score, max_score, average_score))"
   ]
  },
  {
   "cell_type": "code",
   "execution_count": null,
   "metadata": {},
   "outputs": [],
   "source": []
  }
 ],
 "metadata": {
  "kernelspec": {
   "display_name": "Python 3",
   "language": "python",
   "name": "python3"
  },
  "language_info": {
   "codemirror_mode": {
    "name": "ipython",
    "version": 3
   },
   "file_extension": ".py",
   "mimetype": "text/x-python",
   "name": "python",
   "nbconvert_exporter": "python",
   "pygments_lexer": "ipython3",
   "version": "3.7.6"
  }
 },
 "nbformat": 4,
 "nbformat_minor": 4
}
