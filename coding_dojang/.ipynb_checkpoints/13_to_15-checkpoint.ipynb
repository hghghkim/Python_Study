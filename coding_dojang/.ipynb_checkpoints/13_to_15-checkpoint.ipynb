{
 "cells": [
  {
   "cell_type": "markdown",
   "metadata": {},
   "source": [
    "## if 조건문 사용하기\n",
    "### 온라인 할인 쿠폰 시스템 만들기\n",
    "표준 입력으로 가격(정수)과 쿠폰 이름이 각 줄에 입력됩니다. Cash3000 쿠폰은 3,000원, Cash5000 쿠폰은 5,000원을 할인합니다. 쿠폰에 따라 할인된 가격을 출력하는 프로그램을 만드세요(input에서 안내 문자열은 출력하지 않아야 합니다).\n",
    "\n",
    "judge_if.py\n",
    "\n",
    "________________\n",
    "________________\n",
    "________________\n",
    "________________\n",
    "________________\n",
    "________________\n",
    "________________\n",
    "\n",
    "예\n",
    "\n",
    "입력\n",
    "\n",
    "27000\n",
    "\n",
    "Cash3000\n",
    "\n",
    "결과\n",
    "\n",
    "24000\n",
    "\n",
    "입력\n",
    "\n",
    "72000\n",
    "\n",
    "Cash5000\n",
    "\n",
    "결과\n",
    "\n",
    "67000"
   ]
  },
  {
   "cell_type": "code",
   "execution_count": 3,
   "metadata": {},
   "outputs": [
    {
     "name": "stdin",
     "output_type": "stream",
     "text": [
      " 50000\n",
      " Cash3000\n"
     ]
    },
    {
     "name": "stdout",
     "output_type": "stream",
     "text": [
      "47000\n"
     ]
    }
   ],
   "source": [
    "x= int(input())\n",
    "y= input()\n",
    "\n",
    "if y== 'Cash3000':\n",
    "    y = 3000\n",
    "    \n",
    "if y== 'Cash5000':\n",
    "    y = 5000\n",
    "\n",
    "z = x - y \n",
    "print(z)"
   ]
  },
  {
   "cell_type": "markdown",
   "metadata": {},
   "source": [
    "## else\n",
    "### 합격 여부 판단하기\n",
    "표준 입력으로 국어, 영어, 수학, 과학 점수가 입력됩니다. 여기서 네 과목의 평균 점수가 80점 이상일 때 합격이라고 정했습니다. 평균 점수에 따라 '합격', '불합격'을 출력하는 프로그램을 만드세요(input에서 안내 문자열은 출력하지 않아야 합니다). 단, 점수는 0점부터 100점까지만 입력받을 수 있으며 범위를 벗어났다면 '잘못된 점수'를 출력하고 합격, 불합격 여부는 출력하지 않아야 합니다.\n",
    "\n",
    "judge_if_else.py\n",
    "\n",
    "________________\n",
    "________________\n",
    "________________\n",
    "________________\n",
    "________________\n",
    "________________\n",
    "________________\n",
    "________________\n",
    "\n",
    "예\n",
    "\n",
    "입력\n",
    "\n",
    "89 72 93 82\n",
    "\n",
    "결과\n",
    "\n",
    "합격\n",
    "\n",
    "입력\n",
    "\n",
    "100 79 68 71\n",
    "\n",
    "결과\n",
    "\n",
    "불합격\n",
    "\n",
    "입력\n",
    "\n",
    "99 85 101 90\n",
    "\n",
    "결과\n",
    "\n",
    "잘못된 점수\n"
   ]
  },
  {
   "cell_type": "code",
   "execution_count": 14,
   "metadata": {},
   "outputs": [
    {
     "name": "stdin",
     "output_type": "stream",
     "text": [
      " 100 100 100 100\n"
     ]
    },
    {
     "name": "stdout",
     "output_type": "stream",
     "text": [
      "Pass\n"
     ]
    }
   ],
   "source": [
    "x,y,z,w = map(int,input().split())\n",
    "\n",
    "if x < 0 or y < 0 or z < 0 or w <0 or x > 100 or z > 100 or y > 100 or w>100:\n",
    "    print('False Score')\n",
    "else:\n",
    "    s = (x+y+z+w)/4\n",
    "    if s >= 80:\n",
    "        print('Pass')\n",
    "    else :\n",
    "        print('Fail')"
   ]
  },
  {
   "cell_type": "markdown",
   "metadata": {},
   "source": [
    "## elif\n",
    "### 교통카드 시스템 만들기\n",
    "표준 입력으로 나이(만 나이)가 입력됩니다(입력 값은 7 이상 입력됨). 교통카드 시스템에서 시내버스 요금은 다음과 같으며 각 나이에 맞게 요금을 차감한 뒤 잔액이 출력되게 만드세요(if, elif 사용). 현재 교통카드에는 9,000원이 들어있습니다.\n",
    "\n",
    "    어린이(초등학생, 만 7세 이상 12세 이하): 650원\n",
    "    청소년(중∙고등학생, 만 13세 이상 18세 이하): 1,050원\n",
    "    어른(일반, 만 19세 이상): 1,250원\n",
    "\n",
    "judge_if_elif.py\n",
    "\n",
    "age = int(input())\n",
    "balance = 9000    # 교통카드 잔액\n",
    "\n",
    "________________\n",
    "________________\n",
    "________________\n",
    "________________\n",
    "________________\n",
    "________________\n",
    "\n",
    "print(balance)\n",
    "\n",
    "예\n",
    "\n",
    "입력\n",
    "17\n",
    "\n",
    "결과\n",
    "7950\n",
    "\n",
    "입력\n",
    "12\n",
    "\n",
    "결과\n",
    "8350"
   ]
  },
  {
   "cell_type": "code",
   "execution_count": 18,
   "metadata": {},
   "outputs": [
    {
     "name": "stdin",
     "output_type": "stream",
     "text": [
      " 12\n"
     ]
    },
    {
     "name": "stdout",
     "output_type": "stream",
     "text": [
      "8350\n"
     ]
    }
   ],
   "source": [
    "age = int(input())\n",
    "balance = 9000\n",
    "m = 0\n",
    "\n",
    "if 7<= age <=12:\n",
    "    m = 650\n",
    "elif 13 <= age <= 18:\n",
    "    m = 1050\n",
    "elif age >=19:\n",
    "    m = 1250\n",
    "else:\n",
    "    print('error')\n",
    "    \n",
    "x = balance - m\n",
    "print(x)\n",
    "    "
   ]
  },
  {
   "cell_type": "code",
   "execution_count": null,
   "metadata": {},
   "outputs": [],
   "source": []
  }
 ],
 "metadata": {
  "kernelspec": {
   "display_name": "Python 3.7.6 64-bit",
   "language": "python",
   "name": "python37664bit50ce0d2aa98245a8933bf48345d8fa33"
  },
  "language_info": {
   "codemirror_mode": {
    "name": "ipython",
    "version": 3
   },
   "file_extension": ".py",
   "mimetype": "text/x-python",
   "name": "python",
   "nbconvert_exporter": "python",
   "pygments_lexer": "ipython3",
   "version": "3.7.6"
  }
 },
 "nbformat": 4,
 "nbformat_minor": 4
}
